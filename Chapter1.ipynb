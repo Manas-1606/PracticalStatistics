{
 "cells": [
  {
   "cell_type": "markdown",
   "metadata": {},
   "source": [
    "<h1>Chapter 1: Exploratory Data Analysis"
   ]
  },
  {
   "cell_type": "markdown",
   "metadata": {},
   "source": [
    "Data types:\n",
    "1) Numeric:<br>\n",
    "    i) Continuous<br>\n",
    "    ii) Discrete<br><br>\n",
    "2) Categorical:<br>\n",
    "    i) Binary<br>\n",
    "    ii) Ordinal<br>"
   ]
  },
  {
   "cell_type": "markdown",
   "metadata": {},
   "source": [
    "Rectangular data is the general term for a two-dimensional matrix with rows indicat‐ ing records (cases) and columns indicating features (variables); data frame is the specific format in R and Python.\n",
    "\n",
    "In python, dataframes can be manipulated and interacted with, by making use of a python module called <b>pandas</b>.\n",
    " "
   ]
  },
  {
   "cell_type": "markdown",
   "metadata": {},
   "source": [
    "<h3>Estimates of location</h3>\n",
    "Mean<br>\n",
    "Weighted Mean<br>\n",
    "Median<br>\n",
    "Percentile<br>\n",
    "Weighted median<br>\n",
    "Trimmed mean<br>"
   ]
  },
  {
   "cell_type": "code",
   "execution_count": 2,
   "metadata": {},
   "outputs": [
    {
     "name": "stdout",
     "output_type": "stream",
     "text": [
      "mean: 6.0\n",
      "trimmed mean:  5.8\n",
      "median: 6.0\n",
      "weighted mean:  7.555555555555555\n",
      "Verification:  7.555555555555555\n",
      "\n",
      "Sorted array: [1, 3, 4, 5, 6, 6, 8, 10, 11]\n",
      "4.0\n"
     ]
    }
   ],
   "source": [
    "import pandas as pd\n",
    "import numpy as np\n",
    "import wquantiles\n",
    "from scipy.stats import trim_mean\n",
    "\n",
    "lst = [1,4,3,5,6,11,8,6,10]\n",
    "df = pd.DataFrame(sorted(lst))\n",
    "print(\"mean:\", df[0].mean())\n",
    "print(\"trimmed mean: \", trim_mean(df[0], 0.3))\n",
    "print(\"median:\", df[0].median())\n",
    "\n",
    "df_array = np.array(lst)\n",
    "#the weights are the numbers in the array itself\n",
    "print(\"weighted mean: \", np.average(df_array, weights=df_array))\n",
    "\n",
    "sum = 0\n",
    "for i in df_array:\n",
    "    #calculating every element multiplied by itself\n",
    "    sum = sum + i*i\n",
    "print(\"Verification: \", sum/df_array.sum())\n",
    "\n",
    "print(\"\\nSorted array:\", sorted(lst))\n",
    "quan = np.quantile(df_array, 0.25)\n",
    "print(quan)"
   ]
  },
  {
   "cell_type": "markdown",
   "metadata": {},
   "source": [
    "<h3>Estimates of variability</h3>\n",
    "Deviations<br>\n",
    "Variance<br>\n",
    "Standard deviation<br>\n",
    "Mean absolute deviation<br>\n",
    "Median absolute deviation from the median<br>\n",
    "Range<br>\n",
    "Order statistics<br>\n",
    "Percentile<br>\n",
    "Interquartile range<br>"
   ]
  },
  {
   "cell_type": "code",
   "execution_count": 3,
   "metadata": {},
   "outputs": [
    {
     "name": "stdout",
     "output_type": "stream",
     "text": [
      "Standard deviation:  3.24037034920393\n",
      "75% percentile:  8.0\n",
      "25% percentile:  4.0\n",
      "IQR:  4.0\n",
      "Median absolute deviation:  2.965204437011204\n"
     ]
    }
   ],
   "source": [
    "from statsmodels import robust\n",
    "\n",
    "print(\"Standard deviation: \", df[0].std())\n",
    "print(\"75% percentile: \", df[0].quantile(0.75))\n",
    "print(\"25% percentile: \", df[0].quantile(0.25))\n",
    "print(\"IQR: \", df[0].quantile(0.75) - df[0].quantile(0.25))\n",
    "print(\"Median absolute deviation: \", robust.scale.mad(df[0]))\n"
   ]
  },
  {
   "cell_type": "markdown",
   "metadata": {},
   "source": [
    "<h3>Exploring the Data Distribution</h3>\n",
    "Boxplot<br>\n",
    "Frequency table<br>\n",
    "Histogram<br>\n",
    "Density plot<br>"
   ]
  },
  {
   "cell_type": "code",
   "execution_count": 4,
   "metadata": {},
   "outputs": [
    {
     "name": "stdout",
     "output_type": "stream",
     "text": [
      "Percentiles and their values\n"
     ]
    },
    {
     "data": {
      "text/plain": [
       "0.05     1.8\n",
       "0.25     4.0\n",
       "0.50     6.0\n",
       "0.75     8.0\n",
       "0.95    10.6\n",
       "Name: 0, dtype: float64"
      ]
     },
     "execution_count": 4,
     "metadata": {},
     "output_type": "execute_result"
    }
   ],
   "source": [
    "#print(\"Array: \", df[0])\n",
    "print(\"Percentiles and their values\")\n",
    "df[0].quantile([0.05, 0.25, 0.5, 0.75, 0.95])\n"
   ]
  },
  {
   "cell_type": "code",
   "execution_count": 23,
   "metadata": {},
   "outputs": [
    {
     "name": "stdout",
     "output_type": "stream",
     "text": [
      "Boxplots!\n"
     ]
    },
    {
     "data": {
      "image/png": "[encoded data removed]",
      "text/plain": [
       "<Figure size 432x288 with 1 Axes>"
      ]
     },
     "metadata": {
      "needs_background": "light"
     },
     "output_type": "display_data"
    }
   ],
   "source": [
    "y = df[0].plot.box()\n",
    "print(\"Boxplots!\")"
   ]
  },
  {
   "cell_type": "code",
   "execution_count": 19,
   "metadata": {},
   "outputs": [
    {
     "name": "stdout",
     "output_type": "stream",
     "text": [
      "0     (0.99, 4.333]\n",
      "1     (0.99, 4.333]\n",
      "2     (0.99, 4.333]\n",
      "3    (4.333, 7.667]\n",
      "4    (4.333, 7.667]\n",
      "5    (4.333, 7.667]\n",
      "6     (7.667, 11.0]\n",
      "7     (7.667, 11.0]\n",
      "8     (7.667, 11.0]\n",
      "Name: 0, dtype: category\n",
      "Categories (3, interval[float64, right]): [(0.99, 4.333] < (4.333, 7.667] < (7.667, 11.0]]\n",
      "\n",
      "From my understanding, the binning that happens here is equal width binning.\n",
      "[min + w], [min + 2w], ... where w =  (max - min)/number of bins\n"
     ]
    },
    {
     "data": {
      "text/plain": [
       "(0.99, 4.333]     3\n",
       "(4.333, 7.667]    3\n",
       "(7.667, 11.0]     3\n",
       "Name: 0, dtype: int64"
      ]
     },
     "execution_count": 19,
     "metadata": {},
     "output_type": "execute_result"
    }
   ],
   "source": [
    "binned_pop = pd.cut(df[0], 3)\n",
    "print(binned_pop)\n",
    "print(\"\\nFrom my understanding, the binning that happens here is equal width binning.\\n[min + w], [min + 2w], ... where w =  (max - min)/number of bins\")\n",
    "binned_pop.value_counts()"
   ]
  },
  {
   "cell_type": "code",
   "execution_count": 22,
   "metadata": {},
   "outputs": [
    {
     "name": "stdout",
     "output_type": "stream",
     "text": [
      "Histograms!\n",
      "\n",
      " The empty spaces within the graph specifies empty bins\n"
     ]
    },
    {
     "data": {
      "image/png": "[encoded data removed]",
      "text/plain": [
       "<Figure size 432x288 with 1 Axes>"
      ]
     },
     "metadata": {
      "needs_background": "light"
     },
     "output_type": "display_data"
    }
   ],
   "source": [
    "print(\"Histograms!\")\n",
    "y = df[0].plot.hist()\n",
    "#print(y)\n",
    "print(\"\\n The empty spaces within the graph specifies empty bins\")"
   ]
  },
  {
   "cell_type": "code",
   "execution_count": 29,
   "metadata": {},
   "outputs": [
    {
     "name": "stdout",
     "output_type": "stream",
     "text": [
      "Density plots!\n"
     ]
    },
    {
     "data": {
      "image/png": "[encoded data removed]",
      "text/plain": [
       "<Figure size 432x288 with 1 Axes>"
      ]
     },
     "metadata": {
      "needs_background": "light"
     },
     "output_type": "display_data"
    }
   ],
   "source": [
    "print(\"Density plots!\")\n",
    "y = df[0].plot.density()\n"
   ]
  },
  {
   "cell_type": "markdown",
   "metadata": {},
   "source": [
    "<h3>Exploring binary and categorical data</h3>\n",
    "Mode<br>\n",
    "Expected value<br>\n",
    "Bar charts<br>\n",
    "Pie chats<br>"
   ]
  },
  {
   "cell_type": "code",
   "execution_count": 31,
   "metadata": {},
   "outputs": [],
   "source": [
    "#making a new dataset\n",
    "df1 = pd.DataFrame()\n",
    "df1[\"categories\"] = [\"cat1\",\"cat2\", \"cat3\", \"cat4\", \"cat5\"]\n",
    "df1[\"values\"] = [25, 15, 30, 20, 10]"
   ]
  },
  {
   "cell_type": "code",
   "execution_count": 42,
   "metadata": {},
   "outputs": [
    {
     "data": {
      "text/plain": [
       "Text(0, 0.5, 'values')"
      ]
     },
     "execution_count": 42,
     "metadata": {},
     "output_type": "execute_result"
    },
    {
     "data": {
      "image/png": "[encoded data removed]",
      "text/plain": [
       "<Figure size 288x288 with 1 Axes>"
      ]
     },
     "metadata": {
      "needs_background": "light"
     },
     "output_type": "display_data"
    }
   ],
   "source": [
    "#We dont need to perform transpose as the dataframe is already in the format that is required\n",
    "y = df1.plot.bar(figsize = (4,4))\n",
    "y.set_xlabel(\"categories\")\n",
    "y.set_ylabel(\"values\")"
   ]
  },
  {
   "cell_type": "markdown",
   "metadata": {},
   "source": [
    "Note that a bar chart resembles a histogram; in a bar chart the x-axis represents dif‐ ferent categories of a factor variable, while in a histogram the x-axis represents values of a single variable on a numeric scale. In a histogram, the bars are typically shown touching each other, with gaps indicating values that did not occur in the data. In a\n",
    "bar chart, the bars are shown separate from one another."
   ]
  },
  {
   "cell_type": "markdown",
   "metadata": {},
   "source": [
    "Expected value can be calculated as weighted mean.<br>\n",
    "Multiply each outcome by its probability of occurrence -> Sum these values."
   ]
  },
  {
   "cell_type": "markdown",
   "metadata": {},
   "source": [
    "<h3>Correlation</h3>\n",
    "Correlation coefficient<br>\n",
    "Correlation matrix<br>\n",
    "Scatterplot"
   ]
  }
 ],
 "metadata": {
  "kernelspec": {
   "display_name": "base",
   "language": "python",
   "name": "python3"
  },
  "language_info": {
   "codemirror_mode": {
    "name": "ipython",
    "version": 3
   },
   "file_extension": ".py",
   "mimetype": "text/x-python",
   "name": "python",
   "nbconvert_exporter": "python",
   "pygments_lexer": "ipython3",
   "version": "3.9.7"
  },
  "orig_nbformat": 4
 },
 "nbformat": 4,
 "nbformat_minor": 2
}

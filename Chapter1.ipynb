{
 "cells": [
  {
   "cell_type": "markdown",
   "metadata": {},
   "source": [
    "<h1>Chapter 1: Exploratory Data Analysis"
   ]
  },
  {
   "cell_type": "markdown",
   "metadata": {},
   "source": [
    "Data types:\n",
    "1) Numeric:<br>\n",
    "    i) Continuous<br>\n",
    "    ii) Discrete<br><br>\n",
    "2) Categorical:<br>\n",
    "    i) Binary<br>\n",
    "    ii) Ordinal<br>"
   ]
  },
  {
   "cell_type": "markdown",
   "metadata": {},
   "source": [
    "Rectangular data is the general term for a two-dimensional matrix with rows indicat‐ ing records (cases) and columns indicating features (variables); data frame is the specific format in R and Python.\n",
    "\n",
    "In python, dataframes can be manipulated and interacted with, by making use of a python module called <b>pandas</b>.\n",
    " "
   ]
  },
  {
   "cell_type": "markdown",
   "metadata": {},
   "source": [
    "<h3>Estimates of location</h3><br>\n",
    "Mean<br>\n",
    "Weighted Mean<br>\n",
    "Median<br>\n",
    "Percentile<br>\n",
    "Weighted median<br>\n",
    "Trimmed mean<br>"
   ]
  },
  {
   "cell_type": "code",
   "execution_count": 39,
   "metadata": {},
   "outputs": [
    {
     "name": "stdout",
     "output_type": "stream",
     "text": [
      "mean: 6.0\n",
      "trimmed mean:  5.8\n",
      "median: 6.0\n",
      "weighted mean:  7.555555555555555\n",
      "Verification:  7.555555555555555\n",
      "\n",
      "Sorted array: [1, 3, 4, 5, 6, 6, 8, 10, 11]\n",
      "4.0\n"
     ]
    }
   ],
   "source": [
    "import pandas as pd\n",
    "import numpy as np\n",
    "import wquantiles\n",
    "from scipy.stats import trim_mean\n",
    "\n",
    "lst = [1,4,3,5,6,11,8,6,10]\n",
    "df = pd.DataFrame(lst)\n",
    "print(\"mean:\", df[0].mean())\n",
    "print(\"trimmed mean: \", trim_mean(df[0], 0.3))\n",
    "print(\"median:\", df[0].median())\n",
    "\n",
    "df_array = np.array(lst)\n",
    "#the weights are the numbers in the array itself\n",
    "print(\"weighted mean: \", np.average(df_array, weights=df_array))\n",
    "\n",
    "sum = 0\n",
    "for i in df_array:\n",
    "    #calculating every element multiplied by itself\n",
    "    sum = sum + i*i\n",
    "print(\"Verification: \", sum/df_array.sum())\n",
    "\n",
    "print(\"\\nSorted array:\", sorted(lst))\n",
    "quan = np.quantile(df_array, 0.25)\n",
    "print(quan)"
   ]
  },
  {
   "cell_type": "markdown",
   "metadata": {},
   "source": [
    "<h3>Estimates of variability"
   ]
  }
 ],
 "metadata": {
  "kernelspec": {
   "display_name": "base",
   "language": "python",
   "name": "python3"
  },
  "language_info": {
   "codemirror_mode": {
    "name": "ipython",
    "version": 3
   },
   "file_extension": ".py",
   "mimetype": "text/x-python",
   "name": "python",
   "nbconvert_exporter": "python",
   "pygments_lexer": "ipython3",
   "version": "3.9.7"
  },
  "orig_nbformat": 4
 },
 "nbformat": 4,
 "nbformat_minor": 2
}
